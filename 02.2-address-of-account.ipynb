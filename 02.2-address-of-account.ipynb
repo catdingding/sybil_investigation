{
 "cells": [
  {
   "cell_type": "code",
   "execution_count": 2,
   "metadata": {},
   "outputs": [],
   "source": [
    "from sqlalchemy import create_engine\n",
    "import pandas as pd\n",
    "\n",
    "from config import db_connection_string"
   ]
  },
  {
   "cell_type": "code",
   "execution_count": 3,
   "metadata": {},
   "outputs": [],
   "source": [
    "engine = create_engine(db_connection_string)"
   ]
  },
  {
   "cell_type": "markdown",
   "metadata": {},
   "source": [
    "## match contribution and tx"
   ]
  },
  {
   "cell_type": "code",
   "execution_count": 4,
   "metadata": {},
   "outputs": [],
   "source": [
    "df = pd.read_sql_query(\"\"\"\n",
    "SELECT \n",
    "\t`t1`.`id` AS `contribution`,\n",
    "\t`t1`.`account`,\n",
    "    `t1`.`grant`,\n",
    "\t`t3`.`from`,\n",
    "\t`t3`.`tx`\n",
    "FROM\n",
    "    `contribution` AS `t1`\n",
    "INNER JOIN\n",
    "    `grant` AS `t2` \n",
    "\tON \n",
    "\t\t`t2`.`id` = `t1`.`grant`\n",
    "INNER JOIN\n",
    "    `tx` AS `t3` \n",
    "    ON \n",
    "\t\t`t3`.`to` = `t2`.`address`\n",
    "        AND `t3`.`symbol` = `t1`.`symbol`\n",
    "        AND `t3`.`amount` = `t1`.`amount_to_grant`\n",
    "        AND ABS(TIMESTAMPDIFF(MINUTE, `t3`.`created_on`, `t1`.`created_on`)) <= 5\n",
    "\"\"\", engine)"
   ]
  },
  {
   "cell_type": "code",
   "execution_count": 5,
   "metadata": {},
   "outputs": [
    {
     "data": {
      "text/plain": "((232184, 5), 162853)"
     },
     "execution_count": 5,
     "metadata": {},
     "output_type": "execute_result"
    }
   ],
   "source": [
    "df.shape, df['tx'].nunique()"
   ]
  },
  {
   "cell_type": "code",
   "execution_count": 6,
   "metadata": {},
   "outputs": [],
   "source": [
    "df['n_account_in_tx'] = df.groupby('tx')['account'].transform('nunique')\n",
    "df['contribution_exists_n_times'] = df.groupby('contribution')['contribution'].transform(len)\n",
    "df['tx_exists_n_times_in_grant'] = df.groupby(['grant', 'tx'])['tx'].transform(len)\n"
   ]
  },
  {
   "cell_type": "markdown",
   "metadata": {},
   "source": [
    "## tx (only matching one account)"
   ]
  },
  {
   "cell_type": "code",
   "execution_count": 48,
   "metadata": {},
   "outputs": [],
   "source": [
    "account_address_df = df[df['n_account_in_tx']==1].groupby(['account', 'from']).size().reset_index(name='tx_count')"
   ]
  },
  {
   "cell_type": "code",
   "execution_count": 56,
   "metadata": {},
   "outputs": [
    {
     "data": {
      "text/plain": "<sqlalchemy.engine.cursor.LegacyCursorResult at 0x7fb83828a520>"
     },
     "execution_count": 56,
     "metadata": {},
     "output_type": "execute_result"
    }
   ],
   "source": [
    "engine.execute(\"\"\"\n",
    "    CREATE TABLE `account_address`(\n",
    "        `account` VARCHAR(300) NOT NULL,\n",
    "        `address` VARCHAR(256) NOT NULL,\n",
    "        `tx_count` INT NOT NULL,\n",
    "        KEY `account_index`(`account`),\n",
    "        KEY `address_index`(`address`)\n",
    "    )\n",
    "\"\"\")"
   ]
  },
  {
   "cell_type": "code",
   "execution_count": 58,
   "metadata": {},
   "outputs": [],
   "source": [
    "account_address_df.rename(columns={'from':'address'}).to_sql(\"account_address\", engine, index=False, if_exists=\"append\")"
   ]
  },
  {
   "cell_type": "markdown",
   "metadata": {},
   "source": [
    "## other interesting things"
   ]
  },
  {
   "cell_type": "markdown",
   "metadata": {},
   "source": [
    "### addresses used by multiple accounts"
   ]
  },
  {
   "cell_type": "code",
   "execution_count": 49,
   "metadata": {},
   "outputs": [
    {
     "data": {
      "text/plain": "0x18a9e43b760e78af0d9f5b259d4ed2b0e27330f6    10\n0x130c96c7f196654517158d06f6d66354a9003b53     9\n0x8cce3eb41e2f22557514d291a91d3b80bc41a722     5\n0x1584225583e707e2b1d61270a6aa249d57db9f9a     4\n0x9078aee592d97a7de8c9df3a0ebb938ed88ab97e     4\n                                              ..\n0x4818ff9b82dc202ea44d6497ec7aca644a5bdaf2     1\n0x29220a6cb58e3862c28f01741117f63b66ff1f06     1\n0xd80e912e05c61711466f9bbe8ef656ff0d5ac83a     1\n0x2e44eabb2901fefa4600994bca2b80cd83cf3178     1\n0x222c0ca3169a8e2111e62f573900bdfe75a79894     1\nName: from, Length: 17652, dtype: int64"
     },
     "execution_count": 49,
     "metadata": {},
     "output_type": "execute_result"
    }
   ],
   "source": [
    "account_address_df['from'].value_counts()"
   ]
  },
  {
   "cell_type": "code",
   "execution_count": 54,
   "metadata": {},
   "outputs": [
    {
     "data": {
      "text/plain": "523"
     },
     "execution_count": 54,
     "metadata": {},
     "output_type": "execute_result"
    }
   ],
   "source": [
    "(account_address_df['from'].value_counts()>1).sum()"
   ]
  },
  {
   "cell_type": "markdown",
   "metadata": {},
   "source": [
    "### accounts with multiple addresses"
   ]
  },
  {
   "cell_type": "code",
   "execution_count": 50,
   "metadata": {},
   "outputs": [
    {
     "data": {
      "text/plain": "bruce-110            267\ndutedeyanhuo         151\nfmeserver            139\nimcda                129\nchekou                99\n                    ... \nhellominimini          1\nhelloword20210523      1\nhelloworld1001231      1\nhelloworld1001232      1\nzzzzzxf                1\nName: account, Length: 12883, dtype: int64"
     },
     "execution_count": 50,
     "metadata": {},
     "output_type": "execute_result"
    }
   ],
   "source": [
    "account_address_df['account'].value_counts()"
   ]
  },
  {
   "cell_type": "code",
   "execution_count": null,
   "metadata": {},
   "outputs": [
    {
     "data": {
      "text/plain": "1585"
     },
     "execution_count": 53,
     "metadata": {},
     "output_type": "execute_result"
    }
   ],
   "source": [
    "(account_address_df['account'].value_counts()>1).sum()"
   ]
  },
  {
   "cell_type": "markdown",
   "metadata": {},
   "source": [
    "### duplicate contributions?  \n",
    "These contributions can only match one tx, and most of them been created at alomost the same time, maybe they are duplicate records?"
   ]
  },
  {
   "cell_type": "code",
   "execution_count": 16,
   "metadata": {},
   "outputs": [
    {
     "data": {
      "text/html": "<div>\n<style scoped>\n    .dataframe tbody tr th:only-of-type {\n        vertical-align: middle;\n    }\n\n    .dataframe tbody tr th {\n        vertical-align: top;\n    }\n\n    .dataframe thead th {\n        text-align: right;\n    }\n</style>\n<table border=\"1\" class=\"dataframe\">\n  <thead>\n    <tr style=\"text-align: right;\">\n      <th></th>\n      <th>contribution</th>\n      <th>account</th>\n      <th>grant</th>\n      <th>from</th>\n      <th>tx</th>\n      <th>n_account_in_tx</th>\n      <th>contribution_exists_n_times</th>\n      <th>tx_exists_n_times_in_grant</th>\n    </tr>\n  </thead>\n  <tbody>\n    <tr>\n      <th>6</th>\n      <td>137250</td>\n      <td>deadpolaroid</td>\n      <td>9</td>\n      <td>0x5da5f4c020f856abdb168fd35c957d6006ba2ede</td>\n      <td>0xd59184c78fd539e794e6707739d21346396c161a71cc...</td>\n      <td>1</td>\n      <td>1</td>\n      <td>2</td>\n    </tr>\n    <tr>\n      <th>7</th>\n      <td>137251</td>\n      <td>deadpolaroid</td>\n      <td>9</td>\n      <td>0x5da5f4c020f856abdb168fd35c957d6006ba2ede</td>\n      <td>0xd59184c78fd539e794e6707739d21346396c161a71cc...</td>\n      <td>1</td>\n      <td>1</td>\n      <td>2</td>\n    </tr>\n    <tr>\n      <th>1830</th>\n      <td>135587</td>\n      <td>contreus</td>\n      <td>12</td>\n      <td>0x5eb2cb85bbcdaa9c9802c777a0b996df6b6f26cc</td>\n      <td>0x447ff9b701b0b98b0d0429f42e900eeffdcfeeea36ad...</td>\n      <td>1</td>\n      <td>1</td>\n      <td>2</td>\n    </tr>\n    <tr>\n      <th>1831</th>\n      <td>135562</td>\n      <td>contreus</td>\n      <td>12</td>\n      <td>0x5eb2cb85bbcdaa9c9802c777a0b996df6b6f26cc</td>\n      <td>0x447ff9b701b0b98b0d0429f42e900eeffdcfeeea36ad...</td>\n      <td>1</td>\n      <td>1</td>\n      <td>2</td>\n    </tr>\n    <tr>\n      <th>1848</th>\n      <td>156343</td>\n      <td>quzghun</td>\n      <td>12</td>\n      <td>0xdb5fa89c845b180a3dc6c115c65dbcc0f03b70f5</td>\n      <td>0x245c3887f3718f8105cb17d6618b79520eb1f791b149...</td>\n      <td>1</td>\n      <td>1</td>\n      <td>2</td>\n    </tr>\n    <tr>\n      <th>...</th>\n      <td>...</td>\n      <td>...</td>\n      <td>...</td>\n      <td>...</td>\n      <td>...</td>\n      <td>...</td>\n      <td>...</td>\n      <td>...</td>\n    </tr>\n    <tr>\n      <th>224251</th>\n      <td>129946</td>\n      <td>ethacct</td>\n      <td>2239</td>\n      <td>0xa2c62a66f6660166838b95db60f234dfb59e765e</td>\n      <td>0xbeb76f8804ea0e883e817c49306640fac19c18ac544c...</td>\n      <td>1</td>\n      <td>1</td>\n      <td>2</td>\n    </tr>\n    <tr>\n      <th>224526</th>\n      <td>145147</td>\n      <td>mlibty</td>\n      <td>2248</td>\n      <td>0x9eec0b5bd8a48047f0dcc61e98b4b92951480f98</td>\n      <td>0x255aa7ce561dbb6057d44a688864afe55fc16af32143...</td>\n      <td>1</td>\n      <td>1</td>\n      <td>2</td>\n    </tr>\n    <tr>\n      <th>224527</th>\n      <td>145145</td>\n      <td>mlibty</td>\n      <td>2248</td>\n      <td>0x9eec0b5bd8a48047f0dcc61e98b4b92951480f98</td>\n      <td>0x255aa7ce561dbb6057d44a688864afe55fc16af32143...</td>\n      <td>1</td>\n      <td>1</td>\n      <td>2</td>\n    </tr>\n    <tr>\n      <th>224548</th>\n      <td>130273</td>\n      <td>erhenglu</td>\n      <td>2248</td>\n      <td>0x0d30ca8dc55d1b5ef9cba4fa504da8341e252cec</td>\n      <td>0xef1ed021eb2ed1e376dbaa81f1785dae5bed875b3308...</td>\n      <td>1</td>\n      <td>1</td>\n      <td>2</td>\n    </tr>\n    <tr>\n      <th>224549</th>\n      <td>130239</td>\n      <td>erhenglu</td>\n      <td>2248</td>\n      <td>0x0d30ca8dc55d1b5ef9cba4fa504da8341e252cec</td>\n      <td>0xef1ed021eb2ed1e376dbaa81f1785dae5bed875b3308...</td>\n      <td>1</td>\n      <td>1</td>\n      <td>2</td>\n    </tr>\n  </tbody>\n</table>\n<p>1259 rows × 8 columns</p>\n</div>",
      "text/plain": "        contribution       account grant  \\\n6             137250  deadpolaroid     9   \n7             137251  deadpolaroid     9   \n1830          135587      contreus    12   \n1831          135562      contreus    12   \n1848          156343       quzghun    12   \n...              ...           ...   ...   \n224251        129946       ethacct  2239   \n224526        145147        mlibty  2248   \n224527        145145        mlibty  2248   \n224548        130273      erhenglu  2248   \n224549        130239      erhenglu  2248   \n\n                                              from  \\\n6       0x5da5f4c020f856abdb168fd35c957d6006ba2ede   \n7       0x5da5f4c020f856abdb168fd35c957d6006ba2ede   \n1830    0x5eb2cb85bbcdaa9c9802c777a0b996df6b6f26cc   \n1831    0x5eb2cb85bbcdaa9c9802c777a0b996df6b6f26cc   \n1848    0xdb5fa89c845b180a3dc6c115c65dbcc0f03b70f5   \n...                                            ...   \n224251  0xa2c62a66f6660166838b95db60f234dfb59e765e   \n224526  0x9eec0b5bd8a48047f0dcc61e98b4b92951480f98   \n224527  0x9eec0b5bd8a48047f0dcc61e98b4b92951480f98   \n224548  0x0d30ca8dc55d1b5ef9cba4fa504da8341e252cec   \n224549  0x0d30ca8dc55d1b5ef9cba4fa504da8341e252cec   \n\n                                                       tx  n_account_in_tx  \\\n6       0xd59184c78fd539e794e6707739d21346396c161a71cc...                1   \n7       0xd59184c78fd539e794e6707739d21346396c161a71cc...                1   \n1830    0x447ff9b701b0b98b0d0429f42e900eeffdcfeeea36ad...                1   \n1831    0x447ff9b701b0b98b0d0429f42e900eeffdcfeeea36ad...                1   \n1848    0x245c3887f3718f8105cb17d6618b79520eb1f791b149...                1   \n...                                                   ...              ...   \n224251  0xbeb76f8804ea0e883e817c49306640fac19c18ac544c...                1   \n224526  0x255aa7ce561dbb6057d44a688864afe55fc16af32143...                1   \n224527  0x255aa7ce561dbb6057d44a688864afe55fc16af32143...                1   \n224548  0xef1ed021eb2ed1e376dbaa81f1785dae5bed875b3308...                1   \n224549  0xef1ed021eb2ed1e376dbaa81f1785dae5bed875b3308...                1   \n\n        contribution_exists_n_times  tx_exists_n_times_in_grant  \n6                                 1                           2  \n7                                 1                           2  \n1830                              1                           2  \n1831                              1                           2  \n1848                              1                           2  \n...                             ...                         ...  \n224251                            1                           2  \n224526                            1                           2  \n224527                            1                           2  \n224548                            1                           2  \n224549                            1                           2  \n\n[1259 rows x 8 columns]"
     },
     "execution_count": 16,
     "metadata": {},
     "output_type": "execute_result"
    }
   ],
   "source": [
    "df[\n",
    "    (df['tx_exists_n_times_in_grant'] > 1) & \n",
    "    (df['n_account_in_tx'] == 1) & \n",
    "    ~df['tx'].isin(df[df['contribution_exists_n_times'] > 1]['tx'].unique())\n",
    "]"
   ]
  }
 ],
 "metadata": {
  "kernelspec": {
   "display_name": "Python 3.9.5 64-bit ('3.9.5': pyenv)",
   "name": "python395jvsc74a57bd03e0cc74c63ba0d1852eebf501d0651ff437bde89ea35d6e4a9fed06817a25ece"
  },
  "language_info": {
   "codemirror_mode": {
    "name": "ipython",
    "version": 3
   },
   "file_extension": ".py",
   "mimetype": "text/x-python",
   "name": "python",
   "nbconvert_exporter": "python",
   "pygments_lexer": "ipython3",
   "version": "3.9.5"
  },
  "metadata": {
   "interpreter": {
    "hash": "3e0cc74c63ba0d1852eebf501d0651ff437bde89ea35d6e4a9fed06817a25ece"
   }
  },
  "orig_nbformat": 2
 },
 "nbformat": 4,
 "nbformat_minor": 2
}