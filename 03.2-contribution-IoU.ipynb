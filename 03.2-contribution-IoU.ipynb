{
 "cells": [
  {
   "cell_type": "code",
   "execution_count": 5,
   "metadata": {},
   "outputs": [],
   "source": [
    "import json\n",
    "import pandas as pd\n",
    "from tqdm.notebook import tqdm\n",
    "from functools import partial\n",
    "from sqlalchemy import MetaData, Table, create_engine\n",
    "from sqlalchemy.sql import text\n",
    "\n",
    "from config import db_connection_string\n",
    "from utils import tx_count_between_accounts, tx_count_between_grants\n",
    "from iou_calculator import IoUCalculator\n"
   ]
  },
  {
   "cell_type": "code",
   "execution_count": 2,
   "metadata": {},
   "outputs": [],
   "source": [
    "engine = create_engine(db_connection_string)"
   ]
  },
  {
   "cell_type": "code",
   "execution_count": 3,
   "metadata": {},
   "outputs": [],
   "source": [
    "with open('raw_data/contributions.json', 'r') as file:\n",
    "    contributions = json.load(file)\n",
    "\n",
    "contributions = [x for x in contributions if x['grant']!='86' and x['success']]"
   ]
  },
  {
   "cell_type": "code",
   "execution_count": 4,
   "metadata": {},
   "outputs": [],
   "source": [
    "def generate_suspicious_ratio_df(pairs, objects, iou_threshold_list, min_contribution_count_list):\n",
    "    return pd.DataFrame(\n",
    "        [\n",
    "            [\n",
    "                iou_threshold, min_contribution_count, \n",
    "                (\n",
    "                    str(sum(1 if len(x['contributions']) >= min_contribution_count else 0 for x in objects.values())) + ',' +\n",
    "                    str(len({pair[i] for pair in pairs for i in range(2) if pair[2] >= iou_threshold and pair[3] >= min_contribution_count})) + ',' +\n",
    "                    str(len({pair[i] for pair in pairs for i in range(2) if pair[2] >= iou_threshold and pair[3] >= min_contribution_count and pair[4] >= 1}))\n",
    "                )\n",
    "            ]\n",
    "            for iou_threshold in iou_threshold_list\n",
    "            for min_contribution_count in min_contribution_count_list\n",
    "        ],\n",
    "        columns=['iou_threshold', 'min_contribution_count', 'suspicious_account_ratio']\n",
    "    ).pivot(index='iou_threshold', columns='min_contribution_count', values='suspicious_account_ratio')\n"
   ]
  },
  {
   "cell_type": "markdown",
   "metadata": {},
   "source": [
    "## account suspicious ratio(grant)"
   ]
  },
  {
   "cell_type": "code",
   "execution_count": 5,
   "metadata": {
    "scrolled": true
   },
   "outputs": [
    {
     "data": {
      "text/html": "<div>\n<style scoped>\n    .dataframe tbody tr th:only-of-type {\n        vertical-align: middle;\n    }\n\n    .dataframe tbody tr th {\n        vertical-align: top;\n    }\n\n    .dataframe thead th {\n        text-align: right;\n    }\n</style>\n<table border=\"1\" class=\"dataframe\">\n  <thead>\n    <tr style=\"text-align: right;\">\n      <th>min_contribution_count</th>\n      <th>1</th>\n      <th>3</th>\n      <th>5</th>\n      <th>10</th>\n      <th>15</th>\n      <th>20</th>\n    </tr>\n    <tr>\n      <th>iou_threshold</th>\n      <th></th>\n      <th></th>\n      <th></th>\n      <th></th>\n      <th></th>\n      <th></th>\n    </tr>\n  </thead>\n  <tbody>\n    <tr>\n      <th>0.5</th>\n      <td>20655,16754,2018</td>\n      <td>10937,6880,1356</td>\n      <td>8671,5087,1197</td>\n      <td>4824,2526,655</td>\n      <td>3145,1590,512</td>\n      <td>2307,1180,329</td>\n    </tr>\n    <tr>\n      <th>0.6</th>\n      <td>20655,14290,1536</td>\n      <td>10937,5119,1025</td>\n      <td>8671,4034,904</td>\n      <td>4824,1948,533</td>\n      <td>3145,1175,426</td>\n      <td>2307,853,260</td>\n    </tr>\n    <tr>\n      <th>0.7</th>\n      <td>20655,12604,1285</td>\n      <td>10937,4173,826</td>\n      <td>8671,3382,740</td>\n      <td>4824,1506,433</td>\n      <td>3145,878,363</td>\n      <td>2307,605,206</td>\n    </tr>\n    <tr>\n      <th>0.8</th>\n      <td>20655,11963,1085</td>\n      <td>10937,3532,626</td>\n      <td>8671,2928,562</td>\n      <td>4824,1268,355</td>\n      <td>3145,709,299</td>\n      <td>2307,472,170</td>\n    </tr>\n    <tr>\n      <th>0.9</th>\n      <td>20655,11300,926</td>\n      <td>10937,2869,467</td>\n      <td>8671,2334,411</td>\n      <td>4824,986,291</td>\n      <td>3145,538,241</td>\n      <td>2307,341,128</td>\n    </tr>\n    <tr>\n      <th>1.0</th>\n      <td>20655,10957,851</td>\n      <td>10937,2526,392</td>\n      <td>8671,1991,336</td>\n      <td>4824,770,228</td>\n      <td>3145,403,185</td>\n      <td>2307,233,88</td>\n    </tr>\n  </tbody>\n</table>\n</div>",
      "text/plain": "min_contribution_count                1                3               5   \\\niou_threshold                                                               \n0.5                     20655,16754,2018  10937,6880,1356  8671,5087,1197   \n0.6                     20655,14290,1536  10937,5119,1025   8671,4034,904   \n0.7                     20655,12604,1285   10937,4173,826   8671,3382,740   \n0.8                     20655,11963,1085   10937,3532,626   8671,2928,562   \n0.9                      20655,11300,926   10937,2869,467   8671,2334,411   \n1.0                      20655,10957,851   10937,2526,392   8671,1991,336   \n\nmin_contribution_count             10             15             20  \niou_threshold                                                        \n0.5                     4824,2526,655  3145,1590,512  2307,1180,329  \n0.6                     4824,1948,533  3145,1175,426   2307,853,260  \n0.7                     4824,1506,433   3145,878,363   2307,605,206  \n0.8                     4824,1268,355   3145,709,299   2307,472,170  \n0.9                      4824,986,291   3145,538,241   2307,341,128  \n1.0                      4824,770,228   3145,403,185    2307,233,88  "
     },
     "execution_count": 5,
     "metadata": {},
     "output_type": "execute_result"
    }
   ],
   "source": [
    "calculator = IoUCalculator(\n",
    "    contributions, lambda x: x['subscription']['contributor_profile'], lambda x: x['grant'],\n",
    "    lambda x, y: tx_count_between_accounts(x, y, engine)\n",
    ")\n",
    "pairs = calculator.compute_suspicious_pairs(0.5, 1)\n",
    "generate_suspicious_ratio_df(pairs, calculator.objects, [round(x * 0.1, 1) for x in range(5, 11)], [1, 3, 5, 10, 15, 20])"
   ]
  },
  {
   "cell_type": "markdown",
   "metadata": {},
   "source": [
    "## account suspicious ratio(grant+date)"
   ]
  },
  {
   "cell_type": "code",
   "execution_count": 6,
   "metadata": {},
   "outputs": [
    {
     "data": {
      "text/html": "<div>\n<style scoped>\n    .dataframe tbody tr th:only-of-type {\n        vertical-align: middle;\n    }\n\n    .dataframe tbody tr th {\n        vertical-align: top;\n    }\n\n    .dataframe thead th {\n        text-align: right;\n    }\n</style>\n<table border=\"1\" class=\"dataframe\">\n  <thead>\n    <tr style=\"text-align: right;\">\n      <th>min_contribution_count</th>\n      <th>1</th>\n      <th>3</th>\n      <th>5</th>\n      <th>10</th>\n      <th>15</th>\n      <th>20</th>\n    </tr>\n    <tr>\n      <th>iou_threshold</th>\n      <th></th>\n      <th></th>\n      <th></th>\n      <th></th>\n      <th></th>\n      <th></th>\n    </tr>\n  </thead>\n  <tbody>\n    <tr>\n      <th>0.5</th>\n      <td>20655,11932,1037</td>\n      <td>11210,4369,753</td>\n      <td>8866,3566,662</td>\n      <td>5002,1633,372</td>\n      <td>3351,922,273</td>\n      <td>2497,659,164</td>\n    </tr>\n    <tr>\n      <th>0.6</th>\n      <td>20655,9496,828</td>\n      <td>11210,3590,605</td>\n      <td>8866,3040,538</td>\n      <td>5002,1305,318</td>\n      <td>3351,715,238</td>\n      <td>2497,486,135</td>\n    </tr>\n    <tr>\n      <th>0.7</th>\n      <td>20655,8845,712</td>\n      <td>11210,3168,504</td>\n      <td>8866,2695,450</td>\n      <td>5002,1089,271</td>\n      <td>3351,582,213</td>\n      <td>2497,375,114</td>\n    </tr>\n    <tr>\n      <th>0.8</th>\n      <td>20655,8487,624</td>\n      <td>11210,2810,416</td>\n      <td>8866,2388,369</td>\n      <td>5002,952,234</td>\n      <td>3351,494,187</td>\n      <td>2497,307,95</td>\n    </tr>\n    <tr>\n      <th>0.9</th>\n      <td>20655,8028,527</td>\n      <td>11210,2351,319</td>\n      <td>8866,1971,281</td>\n      <td>5002,780,193</td>\n      <td>3351,392,149</td>\n      <td>2497,232,65</td>\n    </tr>\n    <tr>\n      <th>1.0</th>\n      <td>20655,7782,494</td>\n      <td>11210,2105,286</td>\n      <td>8866,1725,248</td>\n      <td>5002,645,170</td>\n      <td>3351,318,131</td>\n      <td>2497,174,55</td>\n    </tr>\n  </tbody>\n</table>\n</div>",
      "text/plain": "min_contribution_count                1               3              5   \\\niou_threshold                                                             \n0.5                     20655,11932,1037  11210,4369,753  8866,3566,662   \n0.6                       20655,9496,828  11210,3590,605  8866,3040,538   \n0.7                       20655,8845,712  11210,3168,504  8866,2695,450   \n0.8                       20655,8487,624  11210,2810,416  8866,2388,369   \n0.9                       20655,8028,527  11210,2351,319  8866,1971,281   \n1.0                       20655,7782,494  11210,2105,286  8866,1725,248   \n\nmin_contribution_count             10            15            20  \niou_threshold                                                      \n0.5                     5002,1633,372  3351,922,273  2497,659,164  \n0.6                     5002,1305,318  3351,715,238  2497,486,135  \n0.7                     5002,1089,271  3351,582,213  2497,375,114  \n0.8                      5002,952,234  3351,494,187   2497,307,95  \n0.9                      5002,780,193  3351,392,149   2497,232,65  \n1.0                      5002,645,170  3351,318,131   2497,174,55  "
     },
     "execution_count": 6,
     "metadata": {},
     "output_type": "execute_result"
    }
   ],
   "source": [
    "calculator = IoUCalculator(\n",
    "    contributions, lambda x:x['subscription']['contributor_profile'], lambda x:(x['grant'], x['created_on'][:10]),\n",
    "    lambda x, y: tx_count_between_accounts(x, y, engine)\n",
    ")\n",
    "pairs = calculator.compute_suspicious_pairs(0.5, 1)\n",
    "generate_suspicious_ratio_df(pairs, calculator.objects, [round(x * 0.1, 1) for x in range(5, 11)], [1, 3, 5, 10, 15, 20])\n"
   ]
  },
  {
   "cell_type": "markdown",
   "metadata": {},
   "source": [
    "## grant suspicious ratio(account)"
   ]
  },
  {
   "cell_type": "code",
   "execution_count": 6,
   "metadata": {},
   "outputs": [
    {
     "data": {
      "text/html": "<div>\n<style scoped>\n    .dataframe tbody tr th:only-of-type {\n        vertical-align: middle;\n    }\n\n    .dataframe tbody tr th {\n        vertical-align: top;\n    }\n\n    .dataframe thead th {\n        text-align: right;\n    }\n</style>\n<table border=\"1\" class=\"dataframe\">\n  <thead>\n    <tr style=\"text-align: right;\">\n      <th>min_contribution_count</th>\n      <th>1</th>\n      <th>3</th>\n      <th>5</th>\n      <th>10</th>\n      <th>15</th>\n      <th>20</th>\n    </tr>\n    <tr>\n      <th>iou_threshold</th>\n      <th></th>\n      <th></th>\n      <th></th>\n      <th></th>\n      <th></th>\n      <th></th>\n    </tr>\n  </thead>\n  <tbody>\n    <tr>\n      <th>0.5</th>\n      <td>1433,551,105</td>\n      <td>1187,350,75</td>\n      <td>988,175,44</td>\n      <td>728,57,22</td>\n      <td>616,31,9</td>\n      <td>541,28,9</td>\n    </tr>\n    <tr>\n      <th>0.6</th>\n      <td>1433,384,48</td>\n      <td>1187,200,22</td>\n      <td>988,92,16</td>\n      <td>728,26,13</td>\n      <td>616,8,4</td>\n      <td>541,6,4</td>\n    </tr>\n    <tr>\n      <th>0.7</th>\n      <td>1433,278,15</td>\n      <td>1187,133,7</td>\n      <td>988,50,5</td>\n      <td>728,12,5</td>\n      <td>616,2,2</td>\n      <td>541,2,2</td>\n    </tr>\n    <tr>\n      <th>0.8</th>\n      <td>1433,230,10</td>\n      <td>1187,85,2</td>\n      <td>988,25,0</td>\n      <td>728,2,0</td>\n      <td>616,0,0</td>\n      <td>541,0,0</td>\n    </tr>\n    <tr>\n      <th>0.9</th>\n      <td>1433,203,8</td>\n      <td>1187,58,0</td>\n      <td>988,12,0</td>\n      <td>728,0,0</td>\n      <td>616,0,0</td>\n      <td>541,0,0</td>\n    </tr>\n    <tr>\n      <th>1.0</th>\n      <td>1433,203,8</td>\n      <td>1187,58,0</td>\n      <td>988,12,0</td>\n      <td>728,0,0</td>\n      <td>616,0,0</td>\n      <td>541,0,0</td>\n    </tr>\n  </tbody>\n</table>\n</div>",
      "text/plain": "min_contribution_count            1            3           5          10  \\\niou_threshold                                                              \n0.5                     1433,551,105  1187,350,75  988,175,44  728,57,22   \n0.6                      1433,384,48  1187,200,22   988,92,16  728,26,13   \n0.7                      1433,278,15   1187,133,7    988,50,5   728,12,5   \n0.8                      1433,230,10    1187,85,2    988,25,0    728,2,0   \n0.9                       1433,203,8    1187,58,0    988,12,0    728,0,0   \n1.0                       1433,203,8    1187,58,0    988,12,0    728,0,0   \n\nmin_contribution_count        15        20  \niou_threshold                               \n0.5                     616,31,9  541,28,9  \n0.6                      616,8,4   541,6,4  \n0.7                      616,2,2   541,2,2  \n0.8                      616,0,0   541,0,0  \n0.9                      616,0,0   541,0,0  \n1.0                      616,0,0   541,0,0  "
     },
     "execution_count": 6,
     "metadata": {},
     "output_type": "execute_result"
    }
   ],
   "source": [
    "calculator = IoUCalculator(\n",
    "    contributions, lambda x:x['grant'], lambda x:x['subscription']['contributor_profile'],\n",
    "    lambda x, y: tx_count_between_grants(x, y, engine)\n",
    ")\n",
    "pairs = calculator.compute_suspicious_pairs(0.5, 1)\n",
    "generate_suspicious_ratio_df(pairs, calculator.objects, [round(x * 0.1, 1) for x in range(5, 11)], [1, 3, 5, 10, 15, 20])\n"
   ]
  },
  {
   "cell_type": "markdown",
   "metadata": {},
   "source": [
    "## grant suspicious ratio(account+date)"
   ]
  },
  {
   "cell_type": "code",
   "execution_count": 7,
   "metadata": {},
   "outputs": [
    {
     "data": {
      "text/html": "<div>\n<style scoped>\n    .dataframe tbody tr th:only-of-type {\n        vertical-align: middle;\n    }\n\n    .dataframe tbody tr th {\n        vertical-align: top;\n    }\n\n    .dataframe thead th {\n        text-align: right;\n    }\n</style>\n<table border=\"1\" class=\"dataframe\">\n  <thead>\n    <tr style=\"text-align: right;\">\n      <th>min_contribution_count</th>\n      <th>1</th>\n      <th>3</th>\n      <th>5</th>\n      <th>10</th>\n      <th>15</th>\n      <th>20</th>\n    </tr>\n    <tr>\n      <th>iou_threshold</th>\n      <th></th>\n      <th></th>\n      <th></th>\n      <th></th>\n      <th></th>\n      <th></th>\n    </tr>\n  </thead>\n  <tbody>\n    <tr>\n      <th>0.5</th>\n      <td>1433,496,71</td>\n      <td>1244,375,65</td>\n      <td>1047,200,31</td>\n      <td>776,54,19</td>\n      <td>665,31,9</td>\n      <td>591,22,6</td>\n    </tr>\n    <tr>\n      <th>0.6</th>\n      <td>1433,343,42</td>\n      <td>1244,252,36</td>\n      <td>1047,95,7</td>\n      <td>776,16,5</td>\n      <td>665,5,0</td>\n      <td>591,0,0</td>\n    </tr>\n    <tr>\n      <th>0.7</th>\n      <td>1433,281,29</td>\n      <td>1244,195,23</td>\n      <td>1047,49,3</td>\n      <td>776,10,3</td>\n      <td>665,2,0</td>\n      <td>591,0,0</td>\n    </tr>\n    <tr>\n      <th>0.8</th>\n      <td>1433,233,10</td>\n      <td>1244,147,4</td>\n      <td>1047,35,0</td>\n      <td>776,4,0</td>\n      <td>665,0,0</td>\n      <td>591,0,0</td>\n    </tr>\n    <tr>\n      <th>0.9</th>\n      <td>1433,187,8</td>\n      <td>1244,101,2</td>\n      <td>1047,15,0</td>\n      <td>776,0,0</td>\n      <td>665,0,0</td>\n      <td>591,0,0</td>\n    </tr>\n    <tr>\n      <th>1.0</th>\n      <td>1433,187,8</td>\n      <td>1244,101,2</td>\n      <td>1047,15,0</td>\n      <td>776,0,0</td>\n      <td>665,0,0</td>\n      <td>591,0,0</td>\n    </tr>\n  </tbody>\n</table>\n</div>",
      "text/plain": "min_contribution_count           1            3            5          10  \\\niou_threshold                                                              \n0.5                     1433,496,71  1244,375,65  1047,200,31  776,54,19   \n0.6                     1433,343,42  1244,252,36    1047,95,7   776,16,5   \n0.7                     1433,281,29  1244,195,23    1047,49,3   776,10,3   \n0.8                     1433,233,10   1244,147,4    1047,35,0    776,4,0   \n0.9                      1433,187,8   1244,101,2    1047,15,0    776,0,0   \n1.0                      1433,187,8   1244,101,2    1047,15,0    776,0,0   \n\nmin_contribution_count        15        20  \niou_threshold                               \n0.5                     665,31,9  591,22,6  \n0.6                      665,5,0   591,0,0  \n0.7                      665,2,0   591,0,0  \n0.8                      665,0,0   591,0,0  \n0.9                      665,0,0   591,0,0  \n1.0                      665,0,0   591,0,0  "
     },
     "execution_count": 7,
     "metadata": {},
     "output_type": "execute_result"
    }
   ],
   "source": [
    "calculator = IoUCalculator(\n",
    "    contributions, lambda x:x['grant'], lambda x:(x['subscription']['contributor_profile'], x['created_on'][:10]),\n",
    "    lambda x, y: tx_count_between_grants(x, y, engine)\n",
    ")\n",
    "pairs = calculator.compute_suspicious_pairs(0.5, 1)\n",
    "generate_suspicious_ratio_df(pairs, calculator.objects, [round(x * 0.1, 1) for x in range(5, 11)], [1, 3, 5, 10, 15, 20])\n"
   ]
  }
 ],
 "metadata": {
  "kernelspec": {
   "display_name": "Python 3.9.5 64-bit ('3.9.5': pyenv)",
   "name": "python395jvsc74a57bd03e0cc74c63ba0d1852eebf501d0651ff437bde89ea35d6e4a9fed06817a25ece"
  },
  "language_info": {
   "codemirror_mode": {
    "name": "ipython",
    "version": 3
   },
   "file_extension": ".py",
   "mimetype": "text/x-python",
   "name": "python",
   "nbconvert_exporter": "python",
   "pygments_lexer": "ipython3",
   "version": "3.9.5"
  },
  "metadata": {
   "interpreter": {
    "hash": "3e0cc74c63ba0d1852eebf501d0651ff437bde89ea35d6e4a9fed06817a25ece"
   }
  }
 },
 "nbformat": 4,
 "nbformat_minor": 2
}