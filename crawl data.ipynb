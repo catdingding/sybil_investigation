{
 "cells": [
  {
   "cell_type": "code",
   "execution_count": null,
   "metadata": {},
   "outputs": [],
   "source": [
    "import json\n",
    "import re\n",
    "import requests\n",
    "import pyquery\n",
    "import time\n",
    "from tqdm.notebook import tqdm\n",
    "from pyquery import PyQuery"
   ]
  },
  {
   "cell_type": "code",
   "execution_count": null,
   "metadata": {},
   "outputs": [],
   "source": [
    "from config import gitcoin_cookies, github_token"
   ]
  },
  {
   "cell_type": "markdown",
   "metadata": {},
   "source": [
    "# grant"
   ]
  },
  {
   "cell_type": "code",
   "execution_count": null,
   "metadata": {},
   "outputs": [],
   "source": [
    "grant_profiles = {}"
   ]
  },
  {
   "cell_type": "code",
   "execution_count": null,
   "metadata": {},
   "outputs": [],
   "source": [
    "for grant_id in tqdm(range(1,3000)):\n",
    "    data = requests.get(f\"https://gitcoin.co/api/v0.1/grants/?pk={grant_id}\").json()\n",
    "    if data:\n",
    "        grant_profiles[grant_id] = data[0]\n",
    "    \n",
    "    time.sleep(1)"
   ]
  },
  {
   "cell_type": "code",
   "execution_count": null,
   "metadata": {},
   "outputs": [],
   "source": [
    "with open('grants_profile.json', 'w') as file:\n",
    "    json.dump(grant_profiles, file, ensure_ascii=False)"
   ]
  },
  {
   "cell_type": "markdown",
   "metadata": {},
   "source": [
    "# contribution hostory"
   ]
  },
  {
   "cell_type": "code",
   "execution_count": null,
   "metadata": {},
   "outputs": [],
   "source": [
    "with open('grants_profile.json', 'r') as file:\n",
    "    grant_profiles = json.load(file)"
   ]
  },
  {
   "cell_type": "code",
   "execution_count": null,
   "metadata": {},
   "outputs": [],
   "source": [
    "contributions = []"
   ]
  },
  {
   "cell_type": "code",
   "execution_count": null,
   "metadata": {
    "scrolled": true
   },
   "outputs": [],
   "source": [
    "for grant_id in tqdm(grant_profiles.keys()):\n",
    "    page = 1\n",
    "    \n",
    "    while page:\n",
    "        try:\n",
    "            res = requests.get(f\"https://gitcoin.co/grants/v1/api/grant/{grant_id}/contributions?page={page}&limit=100\")\n",
    "            data = res.json()\n",
    "        except:\n",
    "            time.sleep(10)\n",
    "            continue\n",
    "            \n",
    "        for contribution in data['contributions']:\n",
    "            contribution['grant'] = grant_id\n",
    "            \n",
    "        contributions.extend(data['contributions'])\n",
    "        page = data['next_page_number']"
   ]
  },
  {
   "cell_type": "code",
   "execution_count": null,
   "metadata": {},
   "outputs": [],
   "source": [
    "added_ids = set()\n",
    "contributions = [x for x in contributions if x['id'] not in added_ids and not added_ids.add(x['id'])]"
   ]
  },
  {
   "cell_type": "code",
   "execution_count": null,
   "metadata": {},
   "outputs": [],
   "source": [
    "with open('contributions.json', 'w') as file:\n",
    "    json.dump(contributions, file, ensure_ascii=False)"
   ]
  },
  {
   "cell_type": "markdown",
   "metadata": {},
   "source": [
    "# gitcoin account & github account"
   ]
  },
  {
   "cell_type": "code",
   "execution_count": null,
   "metadata": {},
   "outputs": [],
   "source": [
    "with open('contributions.json', 'r') as file:\n",
    "    contributions = json.load(file)"
   ]
  },
  {
   "cell_type": "code",
   "execution_count": null,
   "metadata": {},
   "outputs": [],
   "source": [
    "account_ids = list(set(x['subscription']['contributor_profile'] for x in contributions))"
   ]
  },
  {
   "cell_type": "code",
   "execution_count": null,
   "metadata": {},
   "outputs": [],
   "source": [
    "account_profiles = []\n",
    "for account_id in tqdm(account_ids):\n",
    "    try:\n",
    "        res = requests.get(f\"https://gitcoin.co/{account_id}\", cookies=gitcoin_cookies)\n",
    "        res.raise_for_status()\n",
    "    except:\n",
    "        continue\n",
    "        \n",
    "    html = PyQuery(res.text)\n",
    "    \n",
    "    if not html.find(\".profile-header__handle\"):\n",
    "        continue\n",
    "\n",
    "    introduction = html.find(\".review-comment\").text() or ''\n",
    "    interests = list(set([x.text for x in html.find(\".my-2 + .mt-1 .tag-list__item\")]))\n",
    "    skills = list(set([x.text for x in html.find(\".card-body .tag-list__item\")])) or ''\n",
    "    followers_count = int(re.search('(\\d+)', html.find(\"#follower_count\").text()).group())\n",
    "    account_profiles.append({\n",
    "        'id':account_id, 'introduction':introduction, 'interests':interests, 'skills':skills, \n",
    "        'followers_count': followers_count\n",
    "    })"
   ]
  },
  {
   "cell_type": "code",
   "execution_count": null,
   "metadata": {},
   "outputs": [],
   "source": [
    "with open('account_profiles.json', 'w') as file:\n",
    "    json.dump(account_profiles, file, ensure_ascii=False)"
   ]
  },
  {
   "cell_type": "code",
   "execution_count": null,
   "metadata": {},
   "outputs": [],
   "source": []
  },
  {
   "cell_type": "code",
   "execution_count": null,
   "metadata": {},
   "outputs": [],
   "source": [
    "github_profiles = []"
   ]
  },
  {
   "cell_type": "code",
   "execution_count": null,
   "metadata": {},
   "outputs": [],
   "source": [
    "for account_id in tqdm(account_ids):\n",
    "    query = \"\"\"\n",
    "        {\n",
    "          user(login: \"%s\") {\n",
    "            login\n",
    "            createdAt\n",
    "            repositories{\n",
    "              totalCount\n",
    "            }\n",
    "            followers{\n",
    "              totalCount\n",
    "            }\n",
    "            following{\n",
    "              totalCount\n",
    "            }\n",
    "            starredRepositories{\n",
    "              totalCount\n",
    "            }\n",
    "            gists{\n",
    "              totalCount\n",
    "            }\n",
    "            projects{\n",
    "              totalCount\n",
    "            }\n",
    "          }\n",
    "        }\n",
    "    \"\"\" % account_id\n",
    "    \n",
    "    data = requests.post(\n",
    "        \"https://api.github.com/graphql\", \n",
    "        headers={'Authorization': f'bearer {github_token}'}, \n",
    "        json={\"query\":query}\n",
    "    ).json()\n",
    "    \n",
    "    if 'errors' in data:\n",
    "        continue\n",
    "        \n",
    "    github_profiles.append(data['data']['user'])\n",
    "    \n",
    "    time.sleep(1)"
   ]
  },
  {
   "cell_type": "code",
   "execution_count": null,
   "metadata": {},
   "outputs": [],
   "source": [
    "with open('github_profiles.json', 'w') as file:\n",
    "    json.dump(github_profiles, file, ensure_ascii=False)"
   ]
  }
 ],
 "metadata": {
  "kernelspec": {
   "display_name": "Python 3",
   "language": "python",
   "name": "python3"
  },
  "language_info": {
   "codemirror_mode": {
    "name": "ipython",
    "version": 3
   },
   "file_extension": ".py",
   "mimetype": "text/x-python",
   "name": "python",
   "nbconvert_exporter": "python",
   "pygments_lexer": "ipython3",
   "version": "3.6.5"
  }
 },
 "nbformat": 4,
 "nbformat_minor": 2
}
