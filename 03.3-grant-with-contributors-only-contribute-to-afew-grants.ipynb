{
 "cells": [
  {
   "cell_type": "code",
   "execution_count": 1,
   "metadata": {},
   "outputs": [],
   "source": [
    "import json\n",
    "import pandas as pd\n",
    "from tqdm.notebook import tqdm\n",
    "from functools import partial\n",
    "from sqlalchemy import MetaData, Table, create_engine\n",
    "from sqlalchemy.sql import text\n",
    "\n",
    "from config import db_connection_string\n",
    "from utils import tx_count_between_accounts, tx_count_between_grants\n",
    "from iou_calculator import IoUCalculator\n"
   ]
  },
  {
   "cell_type": "code",
   "execution_count": 2,
   "metadata": {},
   "outputs": [],
   "source": [
    "engine = create_engine(db_connection_string)"
   ]
  },
  {
   "cell_type": "code",
   "execution_count": 3,
   "metadata": {},
   "outputs": [
    {
     "data": {
      "text/plain": "<sqlalchemy.engine.cursor.LegacyCursorResult at 0x7f221961b640>"
     },
     "execution_count": 3,
     "metadata": {},
     "output_type": "execute_result"
    }
   ],
   "source": [
    "engine.execute(\"\"\"\n",
    "    CREATE TEMPORARY TABLE `account`\n",
    "    (INDEX `account_index` (`account`))\n",
    "    SELECT \n",
    "        `account`, \n",
    "        COUNT(DISTINCT `grant`) AS `distinct_grant_count`\n",
    "    FROM `contribution`\n",
    "    WHERE `grant`!='86'\n",
    "    GROUP BY `account`;\n",
    "            \n",
    "    CREATE TEMPORARY TABLE `grant_contributor`\n",
    "    (INDEX `account_index` (`account`))\n",
    "    SELECT DISTINCT \n",
    "        `grant`, \n",
    "        `account`\n",
    "    FROM `contribution`\n",
    "    WHERE `grant`!='86';\n",
    "\"\"\")\n"
   ]
  },
  {
   "cell_type": "code",
   "execution_count": 4,
   "metadata": {},
   "outputs": [],
   "source": [
    "grant_contributor_df = pd.read_sql_query(\"\"\"\n",
    "    SELECT \n",
    "        `grant_contributor`.`grant`, \n",
    "        `account`.`account` AS `contributor`, \n",
    "        `account`.`distinct_grant_count` AS `contributor_distinct_grant_count`\n",
    "    FROM `grant_contributor`\n",
    "    INNER JOIN `account` ON `account`.`account`=`grant_contributor`.`account`\n",
    "\"\"\", engine)\n"
   ]
  },
  {
   "cell_type": "code",
   "execution_count": 5,
   "metadata": {},
   "outputs": [
    {
     "data": {
      "text/html": "<div>\n<style scoped>\n    .dataframe tbody tr th:only-of-type {\n        vertical-align: middle;\n    }\n\n    .dataframe tbody tr th {\n        vertical-align: top;\n    }\n\n    .dataframe thead th {\n        text-align: right;\n    }\n</style>\n<table border=\"1\" class=\"dataframe\">\n  <thead>\n    <tr style=\"text-align: right;\">\n      <th>matched account ratio&gt;=</th>\n      <th>0.1</th>\n      <th>0.2</th>\n      <th>0.3</th>\n      <th>0.4</th>\n      <th>0.5</th>\n      <th>0.6</th>\n      <th>0.7</th>\n      <th>0.8</th>\n      <th>0.9</th>\n      <th>1.0</th>\n    </tr>\n    <tr>\n      <th>account contributed grants&lt;=</th>\n      <th></th>\n      <th></th>\n      <th></th>\n      <th></th>\n      <th></th>\n      <th></th>\n      <th></th>\n      <th></th>\n      <th></th>\n      <th></th>\n    </tr>\n  </thead>\n  <tbody>\n    <tr>\n      <th>1</th>\n      <td>233</td>\n      <td>145</td>\n      <td>87</td>\n      <td>51</td>\n      <td>35</td>\n      <td>18</td>\n      <td>11</td>\n      <td>8</td>\n      <td>8</td>\n      <td>7</td>\n    </tr>\n    <tr>\n      <th>2</th>\n      <td>351</td>\n      <td>219</td>\n      <td>140</td>\n      <td>91</td>\n      <td>70</td>\n      <td>35</td>\n      <td>21</td>\n      <td>17</td>\n      <td>16</td>\n      <td>15</td>\n    </tr>\n    <tr>\n      <th>3</th>\n      <td>419</td>\n      <td>261</td>\n      <td>169</td>\n      <td>122</td>\n      <td>84</td>\n      <td>48</td>\n      <td>31</td>\n      <td>24</td>\n      <td>19</td>\n      <td>18</td>\n    </tr>\n    <tr>\n      <th>4</th>\n      <td>492</td>\n      <td>305</td>\n      <td>191</td>\n      <td>135</td>\n      <td>97</td>\n      <td>55</td>\n      <td>36</td>\n      <td>27</td>\n      <td>22</td>\n      <td>20</td>\n    </tr>\n    <tr>\n      <th>5</th>\n      <td>571</td>\n      <td>349</td>\n      <td>224</td>\n      <td>150</td>\n      <td>114</td>\n      <td>62</td>\n      <td>42</td>\n      <td>30</td>\n      <td>25</td>\n      <td>23</td>\n    </tr>\n    <tr>\n      <th>6</th>\n      <td>637</td>\n      <td>394</td>\n      <td>256</td>\n      <td>172</td>\n      <td>125</td>\n      <td>71</td>\n      <td>47</td>\n      <td>34</td>\n      <td>28</td>\n      <td>26</td>\n    </tr>\n    <tr>\n      <th>7</th>\n      <td>685</td>\n      <td>433</td>\n      <td>273</td>\n      <td>180</td>\n      <td>133</td>\n      <td>75</td>\n      <td>50</td>\n      <td>35</td>\n      <td>29</td>\n      <td>27</td>\n    </tr>\n    <tr>\n      <th>8</th>\n      <td>729</td>\n      <td>486</td>\n      <td>299</td>\n      <td>195</td>\n      <td>142</td>\n      <td>86</td>\n      <td>54</td>\n      <td>38</td>\n      <td>31</td>\n      <td>29</td>\n    </tr>\n    <tr>\n      <th>9</th>\n      <td>772</td>\n      <td>546</td>\n      <td>345</td>\n      <td>217</td>\n      <td>151</td>\n      <td>92</td>\n      <td>56</td>\n      <td>38</td>\n      <td>31</td>\n      <td>29</td>\n    </tr>\n    <tr>\n      <th>10</th>\n      <td>802</td>\n      <td>593</td>\n      <td>380</td>\n      <td>239</td>\n      <td>173</td>\n      <td>105</td>\n      <td>63</td>\n      <td>43</td>\n      <td>36</td>\n      <td>34</td>\n    </tr>\n  </tbody>\n</table>\n</div>",
      "text/plain": "matched account ratio>=       0.1  0.2  0.3  0.4  0.5  0.6  0.7  0.8  0.9  1.0\naccount contributed grants<=                                                  \n1                             233  145   87   51   35   18   11    8    8    7\n2                             351  219  140   91   70   35   21   17   16   15\n3                             419  261  169  122   84   48   31   24   19   18\n4                             492  305  191  135   97   55   36   27   22   20\n5                             571  349  224  150  114   62   42   30   25   23\n6                             637  394  256  172  125   71   47   34   28   26\n7                             685  433  273  180  133   75   50   35   29   27\n8                             729  486  299  195  142   86   54   38   31   29\n9                             772  546  345  217  151   92   56   38   31   29\n10                            802  593  380  239  173  105   63   43   36   34"
     },
     "execution_count": 5,
     "metadata": {},
     "output_type": "execute_result"
    }
   ],
   "source": [
    "pd.DataFrame([\n",
    "    [\n",
    "        contributed_grants_less_than_equal,\n",
    "        round(ratio / 10, 1),\n",
    "        (\n",
    "            grant_contributor_df.groupby('grant').agg(\n",
    "                ratio=('contributor_distinct_grant_count', lambda x: (\n",
    "                    x <= contributed_grants_less_than_equal).sum() / x.shape[0])\n",
    "            )['ratio'] >= ratio / 10\n",
    "        ).sum()\n",
    "    ]\n",
    "    for contributed_grants_less_than_equal in range(1, 11)\n",
    "    for ratio in range(1, 11)\n",
    "], columns=['account contributed grants<=', 'matched account ratio>=', 'count']).pivot(index='account contributed grants<=', columns='matched account ratio>=', values='count')\n"
   ]
  },
  {
   "cell_type": "code",
   "execution_count": null,
   "metadata": {},
   "outputs": [],
   "source": []
  }
 ],
 "metadata": {
  "kernelspec": {
   "display_name": "Python 3.9.5 64-bit ('3.9.5': pyenv)",
   "name": "python395jvsc74a57bd03e0cc74c63ba0d1852eebf501d0651ff437bde89ea35d6e4a9fed06817a25ece"
  },
  "language_info": {
   "codemirror_mode": {
    "name": "ipython",
    "version": 3
   },
   "file_extension": ".py",
   "mimetype": "text/x-python",
   "name": "python",
   "nbconvert_exporter": "python",
   "pygments_lexer": "ipython3",
   "version": "3.9.5"
  },
  "metadata": {
   "interpreter": {
    "hash": "3e0cc74c63ba0d1852eebf501d0651ff437bde89ea35d6e4a9fed06817a25ece"
   }
  }
 },
 "nbformat": 4,
 "nbformat_minor": 2
}