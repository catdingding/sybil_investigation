{
 "cells": [
  {
   "cell_type": "code",
   "execution_count": 1,
   "metadata": {},
   "outputs": [],
   "source": [
    "import json\n",
    "import pandas as pd\n",
    "from datetime import timedelta\n",
    "import matplotlib.pyplot as plt\n",
    "from sqlalchemy import create_engine\n",
    "\n",
    "from config import db_connection_string\n"
   ]
  },
  {
   "cell_type": "markdown",
   "metadata": {},
   "source": [
    "## load grant data"
   ]
  },
  {
   "cell_type": "code",
   "execution_count": 2,
   "metadata": {},
   "outputs": [],
   "source": [
    "with open('raw_data/grants_profile.json', 'r') as file:\n",
    "    grants = json.load(file)"
   ]
  },
  {
   "cell_type": "code",
   "execution_count": 3,
   "metadata": {},
   "outputs": [],
   "source": [
    "grant_df = pd.DataFrame([[k, v['admin_address'], v['slug'], v['title']] for k,v in grants.items()], columns=['id', 'address', 'slug', 'title'])"
   ]
  },
  {
   "cell_type": "markdown",
   "metadata": {},
   "source": [
    "## load github account data"
   ]
  },
  {
   "cell_type": "code",
   "execution_count": 4,
   "metadata": {},
   "outputs": [],
   "source": [
    "with open('raw_data/github_profiles.json', 'r') as file:\n",
    "    github_accounts = json.load(file)"
   ]
  },
  {
   "cell_type": "code",
   "execution_count": 5,
   "metadata": {},
   "outputs": [],
   "source": [
    "github_account_df = pd.DataFrame(\n",
    "    [\n",
    "        [x['login'].lower(), x['createdAt'], x['starredRepositories']['totalCount'], x['repositories']['totalCount'], x['gists']['totalCount']]\n",
    "        for x in github_accounts\n",
    "    ],\n",
    "    columns=['account', 'created_at', 'starred_repo_count', 'repo_count', 'gist_count']\n",
    ")\n",
    "github_account_df = github_account_df.drop_duplicates('account')\n",
    "github_account_df['created_at'] = pd.to_datetime(github_account_df['created_at'])"
   ]
  },
  {
   "cell_type": "markdown",
   "metadata": {},
   "source": [
    "## load contribution data"
   ]
  },
  {
   "cell_type": "code",
   "execution_count": 6,
   "metadata": {},
   "outputs": [],
   "source": [
    "with open('raw_data/contributions.json', 'r') as file:\n",
    "    contributions = json.load(file)"
   ]
  },
  {
   "cell_type": "code",
   "execution_count": 7,
   "metadata": {},
   "outputs": [],
   "source": [
    "contribution_df = pd.DataFrame(\n",
    "    [[\n",
    "        x['id'], x['grant'], \n",
    "        x['subscription']['contributor_profile'],\n",
    "        x['subscription']['token_symbol'], \n",
    "        x['subscription']['amount_per_period_minus_gas_price'], x['subscription']['amount_per_period_to_gitcoin'], \n",
    "        x['created_on']\n",
    "    ] for x in contributions if x['success']],\n",
    "    columns=['id', 'grant', 'account', 'symbol', 'amount_to_grant', 'amount_to_gitcoin', 'created_on']\n",
    ")\n",
    "contribution_df = contribution_df.drop_duplicates('id').dropna()\n",
    "contribution_df['created_on'] = pd.to_datetime(contribution_df['created_on'])"
   ]
  },
  {
   "cell_type": "markdown",
   "metadata": {},
   "source": [
    "## insert into db"
   ]
  },
  {
   "cell_type": "code",
   "execution_count": 2,
   "metadata": {},
   "outputs": [],
   "source": [
    "engine = create_engine(db_connection_string)"
   ]
  },
  {
   "cell_type": "code",
   "execution_count": 10,
   "metadata": {},
   "outputs": [
    {
     "data": {
      "text/plain": "<sqlalchemy.engine.cursor.LegacyCursorResult at 0x7fa3d6b765e0>"
     },
     "execution_count": 10,
     "metadata": {},
     "output_type": "execute_result"
    }
   ],
   "source": [
    "engine.execute(\"\"\"\n",
    "    CREATE TABLE `gitcoin`.`grant` (\n",
    "        `id` VARCHAR(40) NOT NULL,\n",
    "        `address` VARCHAR(256) NOT NULL,\n",
    "        `slug` VARCHAR(260) NOT NULL,\n",
    "        `title` VARCHAR(260) NOT NULL,\n",
    "        KEY `id_index` (`id`),\n",
    "        KEY `address_index` (`address`)\n",
    "    );\n",
    "\"\"\")"
   ]
  },
  {
   "cell_type": "code",
   "execution_count": 11,
   "metadata": {},
   "outputs": [
    {
     "data": {
      "text/plain": "<sqlalchemy.engine.cursor.LegacyCursorResult at 0x7fa3e6a76c40>"
     },
     "execution_count": 11,
     "metadata": {},
     "output_type": "execute_result"
    }
   ],
   "source": [
    "engine.execute(\"\"\"\n",
    "    CREATE TABLE `gitcoin`.`contribution` (\n",
    "        `id` INT NOT NULL,\n",
    "        `grant` VARCHAR(40) NOT NULL,\n",
    "        `account` VARCHAR(300) NOT NULL,\n",
    "        `symbol` VARCHAR(40) NOT NULL,\n",
    "        `amount_to_grant` DECIMAL(40,18) NOT NULL,\n",
    "        `amount_to_gitcoin` DECIMAL(40,18) NOT NULL,\n",
    "        `created_on` DATETIME NOT NULL,\n",
    "        PRIMARY KEY (`id`),\n",
    "        KEY `index` (`grant`, `symbol`, `amount_to_grant`, `created_on`)\n",
    "    );\n",
    "\"\"\")"
   ]
  },
  {
   "cell_type": "code",
   "execution_count": 3,
   "metadata": {},
   "outputs": [
    {
     "data": {
      "text/plain": "<sqlalchemy.engine.cursor.LegacyCursorResult at 0x7f998b1f1af0>"
     },
     "execution_count": 3,
     "metadata": {},
     "output_type": "execute_result"
    }
   ],
   "source": [
    "engine.execute(\"\"\"\n",
    "    CREATE TABLE `gitcoin`.`tx` (\n",
    "        `tx` VARCHAR(256) NOT NULL,\n",
    "        `layer` VARCHAR(40) NOT NULL,\n",
    "        `from` VARCHAR(168) NOT NULL,\n",
    "        `to` VARCHAR(168) NOT NULL,\n",
    "        `symbol` VARCHAR(160) NOT NULL,\n",
    "        `amount` DECIMAL(40,18) NOT NULL,\n",
    "        `created_on` DATETIME NOT NULL,\n",
    "        KEY `index` (`to`, `symbol`, `amount`, `created_on`),\n",
    "        KEY `from_to_index` (`from`, `to`)\n",
    "    );\n",
    "\"\"\")"
   ]
  },
  {
   "cell_type": "code",
   "execution_count": 15,
   "metadata": {},
   "outputs": [
    {
     "data": {
      "text/plain": "<sqlalchemy.engine.cursor.LegacyCursorResult at 0x7fa42c035e80>"
     },
     "execution_count": 15,
     "metadata": {},
     "output_type": "execute_result"
    }
   ],
   "source": [
    "engine.execute(\"\"\"\n",
    "    CREATE TABLE `gitcoin`.`github_account` (\n",
    "        `account` VARCHAR(256) NOT NULL,\n",
    "        `created_at` DATETIME NOT NULL,\n",
    "        `starred_repo_count` bigint(20) NOT NULL,\n",
    "        `repo_count` bigint(20) NOT NULL,\n",
    "        `gist_count` bigint(20) NOT NULL\n",
    "    )\n",
    "\"\"\")"
   ]
  },
  {
   "cell_type": "code",
   "execution_count": 16,
   "metadata": {},
   "outputs": [],
   "source": [
    "github_account_df.to_sql('github_account', engine, index=False, if_exists='append')\n",
    "grant_df.to_sql('grant', engine, index=False, if_exists='append')\n",
    "contribution_df.to_sql('contribution', engine, index=False, if_exists='append')"
   ]
  }
 ],
 "metadata": {
  "kernelspec": {
   "display_name": "Python 3.9.5 64-bit ('3.9.5': pyenv)",
   "name": "python395jvsc74a57bd03e0cc74c63ba0d1852eebf501d0651ff437bde89ea35d6e4a9fed06817a25ece"
  },
  "language_info": {
   "codemirror_mode": {
    "name": "ipython",
    "version": 3
   },
   "file_extension": ".py",
   "mimetype": "text/x-python",
   "name": "python",
   "nbconvert_exporter": "python",
   "pygments_lexer": "ipython3",
   "version": "3.9.5"
  },
  "metadata": {
   "interpreter": {
    "hash": "3e0cc74c63ba0d1852eebf501d0651ff437bde89ea35d6e4a9fed06817a25ece"
   }
  }
 },
 "nbformat": 4,
 "nbformat_minor": 2
}