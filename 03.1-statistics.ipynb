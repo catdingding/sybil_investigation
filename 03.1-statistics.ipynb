{
 "cells": [
  {
   "cell_type": "code",
   "execution_count": 1,
   "metadata": {},
   "outputs": [],
   "source": [
    "import json\n",
    "import pandas as pd\n",
    "from tqdm.notebook import tqdm\n",
    "from functools import partial\n",
    "from sqlalchemy import MetaData, Table, create_engine\n",
    "from sqlalchemy.sql import text\n",
    "\n",
    "from config import db_connection_string\n",
    "from utils import tx_count_between_accounts, tx_count_between_grants"
   ]
  },
  {
   "cell_type": "code",
   "execution_count": 2,
   "metadata": {},
   "outputs": [],
   "source": [
    "engine = create_engine(db_connection_string)"
   ]
  },
  {
   "cell_type": "code",
   "execution_count": 42,
   "metadata": {},
   "outputs": [
    {
     "data": {
      "text/plain": "942"
     },
     "execution_count": 42,
     "metadata": {},
     "output_type": "execute_result"
    }
   ],
   "source": [
    "df = pd.read_sql_query(\"\"\"\n",
    "    SELECT \n",
    "        `t1`.`grant`,\n",
    "        `t1`.`account`,\n",
    "        `t1`.`id`,\n",
    "        `t3`.`layer`, `t3`.`tx`,\n",
    "        `t3`.`symbol`, `t3`.`amount`,\n",
    "        `t4`.`symbol`, `t4`.`amount`\n",
    "    FROM\n",
    "        `contribution` AS `t1`\n",
    "    INNER JOIN\n",
    "        `grant` AS `t2` \n",
    "        ON \n",
    "            `t2`.`id` = `t1`.`grant`\n",
    "    INNER JOIN\n",
    "        `tx` AS `t3` \n",
    "        ON \n",
    "            `t3`.`to` = `t2`.`address`\n",
    "            AND `t3`.`symbol` = `t1`.`symbol`\n",
    "            AND `t3`.`amount` = `t1`.`amount_to_grant`\n",
    "            AND ABS(TIMESTAMPDIFF(MINUTE, `t3`.`created_on`, `t1`.`created_on`)) <= 5\n",
    "    INNER JOIN\n",
    "        `tx` AS `t4`\n",
    "        ON\n",
    "            `t4`.`from`=`t3`.`to` \n",
    "            AND `t4`.`to`=`t3`.`from`\n",
    "            AND `t4`.`created_on`>`t3`.`created_on`\n",
    "\"\"\", engine)\n",
    "df['id'].nunique()\n"
   ]
  },
  {
   "cell_type": "code",
   "execution_count": 43,
   "metadata": {},
   "outputs": [
    {
     "data": {
      "text/plain": "(263848,)"
     },
     "execution_count": 43,
     "metadata": {},
     "output_type": "execute_result"
    }
   ],
   "source": [
    "engine.execute(\"SELECT count(*) FROM `contribution`\").fetchone()"
   ]
  },
  {
   "cell_type": "code",
   "execution_count": 45,
   "metadata": {},
   "outputs": [
    {
     "data": {
      "text/plain": "(228370,)"
     },
     "execution_count": 45,
     "metadata": {},
     "output_type": "execute_result"
    }
   ],
   "source": [
    "engine.execute(\"SELECT count(*) FROM `contribution` WHERE `grant`!='86'\").fetchone()\n"
   ]
  },
  {
   "cell_type": "code",
   "execution_count": 48,
   "metadata": {},
   "outputs": [
    {
     "data": {
      "text/plain": "(21136,)"
     },
     "execution_count": 48,
     "metadata": {},
     "output_type": "execute_result"
    }
   ],
   "source": [
    "engine.execute(\"SELECT count(DISTINCT `account`) FROM `contribution`\").fetchone()\n"
   ]
  },
  {
   "cell_type": "code",
   "execution_count": 49,
   "metadata": {},
   "outputs": [
    {
     "data": {
      "text/plain": "(20654,)"
     },
     "execution_count": 49,
     "metadata": {},
     "output_type": "execute_result"
    }
   ],
   "source": [
    "engine.execute(\"SELECT count(DISTINCT `account`) FROM `contribution`  WHERE `grant`!='86'\").fetchone()\n"
   ]
  },
  {
   "cell_type": "code",
   "execution_count": 50,
   "metadata": {},
   "outputs": [
    {
     "data": {
      "text/plain": "(1751,)"
     },
     "execution_count": 50,
     "metadata": {},
     "output_type": "execute_result"
    }
   ],
   "source": [
    "engine.execute(\"SELECT count(*) FROM `grant`\").fetchone()\n"
   ]
  },
  {
   "cell_type": "code",
   "execution_count": null,
   "metadata": {},
   "outputs": [],
   "source": []
  }
 ],
 "metadata": {
  "kernelspec": {
   "display_name": "Python 3.9.5 64-bit ('3.9.5': pyenv)",
   "name": "python395jvsc74a57bd03e0cc74c63ba0d1852eebf501d0651ff437bde89ea35d6e4a9fed06817a25ece"
  },
  "language_info": {
   "codemirror_mode": {
    "name": "ipython",
    "version": 3
   },
   "file_extension": ".py",
   "mimetype": "text/x-python",
   "name": "python",
   "nbconvert_exporter": "python",
   "pygments_lexer": "ipython3",
   "version": "3.9.5"
  },
  "metadata": {
   "interpreter": {
    "hash": "3e0cc74c63ba0d1852eebf501d0651ff437bde89ea35d6e4a9fed06817a25ece"
   }
  }
 },
 "nbformat": 4,
 "nbformat_minor": 2
}